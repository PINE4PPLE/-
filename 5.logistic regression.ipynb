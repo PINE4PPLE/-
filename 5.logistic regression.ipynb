{
 "cells": [
  {
   "cell_type": "markdown",
   "metadata": {},
   "source": [
    "# 逻辑斯蒂回归\n",
    "## 逻辑斯蒂模型\n",
    "### 逻辑斯蒂分布\n",
    "逻辑斯蒂分布：设X为连续变量，X服从逻辑斯蒂分布是指X具有下列分布函数和密度函数：\n",
    "$$\n",
    "F(x)=P(X\\le x)=\\frac{1}{1+e^{-(x-\\mu)/\\gamma}}\\\\\n",
    "f(x)=F'(x)=\\frac{e^{-(x-\\mu)/\\gamma}}{\\gamma (1+e^{-(x-\\mu)/\\gamma})^2}\n",
    "$$\n",
    "其中$\\mu$为位置参数，$\\gamma$为形状参数,其形状如下。"
   ]
  },
  {
   "cell_type": "code",
   "execution_count": 17,
   "metadata": {},
   "outputs": [
    {
     "data": {
      "image/png": "[encoded data removed]",
      "text/plain": [
       "<Figure size 432x288 with 1 Axes>"
      ]
     },
     "metadata": {
      "needs_background": "light"
     },
     "output_type": "display_data"
    }
   ],
   "source": [
    "import matplotlib.pyplot as plt\n",
    "import numpy as np\n",
    "def F(gamma = 1, mu = 0):\n",
    "    x=np.linspace(-10,10,200)\n",
    "    y=1/(1+np.exp((-x + mu)/gamma))\n",
    "    fig = plt.figure()\n",
    "    ax = fig.add_subplot(111)\n",
    "    ax.plot(x, y)\n",
    "    ax.set_xlabel('x')\n",
    "    ax.set_ylabel('F(x)')\n",
    "    ax.set_title('Figure F(x) when gamma=1 and mu=0 ')\n",
    "    ax.grid()\n",
    "    plt.show()\n",
    "F()"
   ]
  },
  {
   "cell_type": "code",
   "execution_count": 19,
   "metadata": {},
   "outputs": [
    {
     "data": {
      "image/png": "[encoded data removed]",
      "text/plain": [
       "<Figure size 432x288 with 1 Axes>"
      ]
     },
     "metadata": {
      "needs_background": "light"
     },
     "output_type": "display_data"
    }
   ],
   "source": [
    "def f(gamma = 1, mu = 0):\n",
    "    x=np.linspace(-10,10,200)\n",
    "    y=np.exp((-x + mu)/gamma)/np.power((1+np.exp((-x + mu)/gamma)), 2)\n",
    "    fig = plt.figure()\n",
    "    ax = fig.add_subplot(111)\n",
    "    ax.plot(x, y)\n",
    "    ax.set_xlabel('x')\n",
    "    ax.set_ylabel('f(x)')\n",
    "    ax.set_title('Figure F(x) when gamma=1 and mu=0 ')\n",
    "    ax.grid()\n",
    "    plt.show()\n",
    "f()"
   ]
  },
  {
   "cell_type": "markdown",
   "metadata": {},
   "source": [
    "### 二项逻辑斯蒂回归模型\n",
    "二项逻辑斯蒂回回归模型是一种***分类模型***，有条件概率分布表示。\n",
    "**逻辑斯蒂回归模型** 二项逻辑斯蒂回归模型是如下条件概率分布：\n",
    "$$\n",
    "P(Y=1|X)=\\frac{exp(w\\cdot x+b)}{1+exp(w\\cdot x+b)}\\\\\n",
    "P(Y=0|X)=\\frac{1}{1+exp(w\\cdot x+b)}\n",
    "$$\n",
    "若将w记为$(w^{(1)},w^{(2)},\\dots w^{(n)},b)^T$,将x记为$(x^{(1)},x^{(2)},\\dots x^{(n)},1)^T$,此时，逻辑斯蒂回归模型如下:\n",
    "$$\n",
    "P(Y=1|x=\\frac{exp(w\\cdot x)}{1+exp(w\\cdot x)}\\\\\n",
    "P(Y=0|x)=\\frac{1}{1+exp(w\\cdot x)}\n",
    "$$\n",
    "一个事件发生的机率是指该事件发生的概率与不发生的概率的比值，若该事件发生概率为p，则发生的机率为$\\frac{p}{1-p}$,该事件的对数几率为\n",
    "$$\n",
    "logit(p)=log\\frac{p}{1-p}\n",
    "$$\n",
    "则对逻辑斯蒂回归而言，\n",
    "$$\n",
    "log(\\frac{P(Y=1|X)}{1-P(Y=1|X)})=w\\cdot x\n",
    "$$\n",
    "换一个角度看，考虑对输入x进行分类的线性函数$w\\cdot x$,其值域为实数域，通过逻辑斯蒂回归模型可以将线性函数转换为概率。\n",
    "### 模型参数估计\n",
    "对于给定的训练数据集$T=\\{(x_1,y_1),(x_1,y_1),\\cdots,(x_N,y_N),\\}$,其中，$x_i\\in R^n$,$y_i\\in\\{0,1\\}$,可以采用极大似然估计法估计模型参数，从而得到逻辑斯蒂回归模型。\n",
    "设：\n",
    "$$\n",
    "P(Y=1|x)=\\pi(x)\\qquad P(Y=0|x)=1-\\pi(x)\n",
    "$$\n",
    "似然函数为\n",
    "$$\n",
    "\\prod^N_{i=1}[\\pi(x_i)]^{y_i}[1-\\pi(x_i)]^{y_i}\n",
    "$$\n",
    "对数似然函数为\n",
    "$$\n",
    "L(w)=\\sum^N_{i=1}[y_ilog(\\pi(x_i))+(1-y_i)log(1-\\pi(x_i))]\\\\\n",
    "=\\sum^N_{i=1}[y_ilog\\frac{\\pi(x_i)}{1-\\pi(x_i)}+log(1-\\pi(x_i))]\\\\\n",
    "=\\sum^N_{i=1}[y_i(w\\cdot x)-log(1+exp(w\\cdot x_i))]\n",
    "$$\n",
    "这样，问题就变成了以对数似然函数为目标函数的最优化问题。\n",
    "假设w的极大似然估计为$\\hat{w}$，那么学到的逻辑斯蒂回归模型为\n",
    "$$\n",
    "P(Y=1|x)=\\frac{exp(\\hat{w}\\cdot x)}{1+exp(\\hat{w}\\cdot x)}\\\\\n",
    "P(Y=0|X)=\\frac{1}{1+exp(\\hat{w}\\cdot x)}\n",
    "$$\n",
    "### 多项逻辑斯蒂回归\n",
    "以上提及的逻辑斯蒂回归模型为二分类模型，对于Y的取值集合为{1,2,...,K},多项逻辑斯蒂回归模型是\n",
    "$$\n",
    "P(Y=k|x)=\\frac{exp(w_k\\cdot x)}{1+\\sum_{k=1}^{K-1}exp(w_k\\cdot x)}\\quad k=1,2,\\cdots,K-1\\\\\n",
    "P(Y=0|x)=\\frac{1}{1+\\sum_{k=1}^{K-1}exp(w_k\\cdot x)}\n",
    "$$"
   ]
  },
  {
   "cell_type": "code",
   "execution_count": 174,
   "metadata": {},
   "outputs": [],
   "source": [
    "import numpy as np\n",
    "class logistic_regression:\n",
    "    def __init__(self, lr = 0.01, epoch = 50):\n",
    "        self.lr = lr\n",
    "        self.epoch = epoch\n",
    "        \n",
    "    def sigmoid(self, x):\n",
    "        return 1/(1+np.exp(-x))\n",
    "    \n",
    "    def fit(self, X, Y):\n",
    "        self._w = np.random.randn(X.shape[1]+1)*0.01\n",
    "        for _ in range(self.epoch):\n",
    "            for xi,y in zip(X, Y):\n",
    "                error = y - (self.sigmoid(np.dot(xi, self._w[1:]) + self._w[0]))\n",
    "                self._w[1:] += self.lr * error * xi\n",
    "                self._w[0] += self.lr * error\n",
    "        return self\n",
    "    \n",
    "    def predict(self, X):\n",
    "        return np.where(np.dot(X, self._w[1:]) + self._w[0] >= 0, 1, 0)\n",
    "    \n",
    "    def score(self, X, Y):\n",
    "        res = self.predict(X)\n",
    "        wrong = res^Y\n",
    "        return 1-wrong.mean()"
   ]
  },
  {
   "cell_type": "code",
   "execution_count": 175,
   "metadata": {},
   "outputs": [
    {
     "data": {
      "text/plain": [
       "1.0"
      ]
     },
     "execution_count": 175,
     "metadata": {},
     "output_type": "execute_result"
    }
   ],
   "source": [
    "import pandas as pd\n",
    "from sklearn.datasets import load_iris\n",
    "from sklearn.model_selection import train_test_split\n",
    "\n",
    "iris = load_iris()\n",
    "df = pd.DataFrame(iris.data, columns=iris.feature_names)\n",
    "X = df.values[:100]\n",
    "y = np.where(iris.target == 0, 0, 1)[:100]\n",
    "X_train, X_test, y_train, y_test = train_test_split(X, y, test_size=0.3)\n",
    "lr_clf = logistic_regression()\n",
    "lr_clf.fit(X_train, y_train)\n",
    "lr_clf.score(X_test, y_test)"
   ]
  },
  {
   "cell_type": "markdown",
   "metadata": {},
   "source": [
    "## 最大熵模型\n",
    "### 最大熵原理\n",
    "最大熵原理认为，学习概率模型时，在所有可能的概率模型（分布）中，熵最大的模型是最好的模型，也可以表述为满足约束条件的模型集合中选取熵最大的模型。\n",
    "\n",
    "### 最大熵模型的定义\n",
    "假设分类模型是一个条件概率分布P(X|Y)，表示对于给定输入X，以条件概率P(X|Y)输出Y。\n",
    "给定训练数据集，可以确定联合概率分布P(X,Y)的经验分布和边缘分布P(X)的经验分布,分别以$\\widetilde{P}(X,Y)\\quad\\widetilde{P}(X)$来表示。\n",
    "$$\n",
    "\\widetilde{P}(X=x,Y=y)=\\frac{v(X=x,Y=y)}{N}\\\\\n",
    "\\widetilde{P}(X=x)=\\frac{v(X=x)}{N}\n",
    "$$\n",
    "用特征函数f(x,y)描述输入x和输入y之间的某一个事实，其定义为\n",
    "$$\n",
    "f(x,y)=\n",
    "\\begin{cases}\n",
    "1,\\quad x,y满足某个事实\\\\\n",
    "0，\\quad 否则\n",
    "\\end{cases}\n",
    "$$\n",
    "特征函数关于经验分布$\\widetilde{P}(X,Y)$的期望值，用$E_{\\widetilde{P}}(f)$表示\n",
    "$$\n",
    "E_{\\widetilde{P}}(f)=\\sum_{x,y}\\widetilde{P}(x,y)f(x,y)\n",
    "$$\n",
    "特征函数关于模型P(Y|X)与经验分布$\\widetilde{P}(X)$的期望值，用$E_{P}(f)$表示\n",
    "$$\n",
    "E_{P}(f)=\\sum_{x,y}\\widetilde{P}(x)P(y|x)f(x,y)\n",
    "$$\n",
    "**最大熵模型** 假设满足所有约束条件的模型集合为\n",
    "$$\n",
    "C \\equiv\\{P\\in \\operatorname{P}|E_P(f_i)=E_{\\widetilde{P}}(f_i),\\quad i=1,2,\\cdots,n\\}\n",
    "$$\n",
    "定义在条件概率分布上的条件熵为\n",
    "$$\n",
    "H(P)=-\\sum_{x,y}\\widetilde{P}(x)P(y|x)logP(y|x)\n",
    "$$\n",
    "### 最大熵模型的学习\n",
    "对于给定的训练数据集$T=\\{(x_1,y_1), (x_2,y_2), \\cdots, (x_N, y_N)\\}|$以及特征函数$f_i(x,y)$,最大熵模型的学习等价于约束最优化问题。\n",
    "$$\n",
    "\\max_{P\\in C}\\quad H(P)=-\\sum_{x,y}\\widetilde{P}(x)P(y|x)logP(y|x)\\\\\n",
    "s.t.\\quad E_P(f_i)=E_{\\widetilde{P}}(f_i),\\quad i=1,2,\\cdots,n\\\\\n",
    "\\sum_yP(y|x)=1\n",
    "$$"
   ]
  }
 ],
 "metadata": {
  "kernelspec": {
   "display_name": "Python 3",
   "language": "python",
   "name": "python3"
  },
  "language_info": {
   "codemirror_mode": {
    "name": "ipython",
    "version": 3
   },
   "file_extension": ".py",
   "mimetype": "text/x-python",
   "name": "python",
   "nbconvert_exporter": "python",
   "pygments_lexer": "ipython3",
   "version": "3.7.3"
  }
 },
 "nbformat": 4,
 "nbformat_minor": 2
}
